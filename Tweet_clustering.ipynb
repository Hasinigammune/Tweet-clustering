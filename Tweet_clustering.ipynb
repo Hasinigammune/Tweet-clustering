{
  "cells": [
    {
      "cell_type": "markdown",
      "metadata": {
        "id": "view-in-github",
        "colab_type": "text"
      },
      "source": [
        "<a href=\"https://colab.research.google.com/github/Hasinigammune/Tweet-clustering/blob/main/Tweet_clustering.ipynb\" target=\"_parent\"><img src=\"https://colab.research.google.com/assets/colab-badge.svg\" alt=\"Open In Colab\"/></a>"
      ]
    },
    {
      "cell_type": "markdown",
      "source": [
        "#Tweet_clustering using K-means clustering (Jaccard Distance)\n",
        "#Group members:\n",
        "- Hasini Gammune\n",
        "\n",
        "- Mahesh Ranpati Dewage"
      ],
      "metadata": {
        "id": "aCPMY5PWKr-C"
      }
    },
    {
      "cell_type": "markdown",
      "source": [
        "#Import Libraries"
      ],
      "metadata": {
        "id": "lmrjjNmBKqGB"
      }
    },
    {
      "cell_type": "code",
      "execution_count": 1,
      "metadata": {
        "id": "_hyLVrupQN8y"
      },
      "outputs": [],
      "source": [
        "import re\n",
        "import requests\n",
        "import pandas as pd\n",
        "import numpy as np\n",
        "import matplotlib.pyplot as plt\n",
        "\n",
        "# To print the last complile time and date\n",
        "import datetime\n",
        "import pytz"
      ]
    },
    {
      "cell_type": "markdown",
      "source": [
        "# Flow of the Assignment 3\n",
        "- We first read the .txt file containing tweets into a dataframe\n",
        "- Next, we do the preprocessing\n",
        "- Finally, we do the clustering"
      ],
      "metadata": {
        "id": "khhKZuo9K9xs"
      }
    },
    {
      "cell_type": "markdown",
      "source": [
        "\n",
        "## Preprocessing Data\n",
        "### we do the following steps\n",
        "- Seperate the tweet id and timestamp from the tweet(when reading data into a dataframe)\n",
        "- Remove any word that starts with the symbol @ e.g. @AnnaMedaris\n",
        "- Remove any hashtag symbols e.g. convert #depression to depression\n",
        "- Remove any URL\n",
        "- Convert every word to lowercase\n",
        "\n",
        "## Clustering\n",
        "- We test k-means clustering for several k values\n",
        "- We plot the Graph of SSE vs number of clusters for visualization"
      ],
      "metadata": {
        "id": "LOB8xKE6LB3t"
      }
    },
    {
      "cell_type": "code",
      "execution_count": 2,
      "metadata": {
        "id": "SD_2WMweP_AT"
      },
      "outputs": [],
      "source": [
        "class kmeans_clustering:\n",
        "  def __init__(self, dataFile):\n",
        "    self.usnewshealth = dataFile\n",
        "\n",
        "  def main_method(self):\n",
        "    def clean_data(line):\n",
        "      pos1=line.find('|')\n",
        "      line=line[:0]+line[pos1+1:] #remove tweeet id\n",
        "      pos2=line.find('|')\n",
        "      line=line[:0]+line[pos2+1:] #remove date time\n",
        "      pos3=line.find('http:') #remove url\n",
        "      line=line[:pos3]\n",
        "      line=line.lower() #covert to lower\n",
        "      line=line.rstrip('\\n')\n",
        "      line=re.split(r'[ `!#$%^&*()_+\\-=\\[\\]{};\\:\"\\\\|,<>\\/?~]',line) #split\n",
        "      line= [ x for x in line if (\"@\") not in x ]\n",
        "      while \"\" in line:\n",
        "       line.remove(\"\")\n",
        "      return(line)\n",
        "\n",
        "    # Finding jacc_distance\n",
        "    def jacc_distance(a,b):\n",
        "       # Calculate the intersection and union sizes\n",
        "      inter_size = len(set(a).intersection(set(b)))\n",
        "      union_size = len(set(a).union(set(b)))\n",
        "\n",
        "        # Calculate the Jaccard distance\n",
        "      jacc_dis = 1.0 - (inter_size / union_size)\n",
        "\n",
        "      #jacc_dis=round(1-len(inter)/(len(uni)+1),4)\n",
        "      #print(jacc_dis)\n",
        "      return(jacc_dis)\n",
        "\n",
        "    # Calculate the SSE\n",
        "    def SSE_cal(K,centroids, clusters,tweet_list):\n",
        "      sse=0\n",
        "      for k in range(K):\n",
        "        for x in clusters[k]:\n",
        "          d=jacc_distance(tweet_list[int(centroids[k])],tweet_list[x])\n",
        "          sse=sse+d**2\n",
        "      return(sse)\n",
        "\n",
        "    #Finding the new centroid\n",
        "    def find_new_centroid(K, cluster,tweet_list):\n",
        "      new_i_sum=[]\n",
        "      for i in cluster:\n",
        "        sum=0\n",
        "        for j in cluster:\n",
        "          sum=sum+jacc_distance(tweet_list[i],tweet_list[j])\n",
        "        new_i_sum.append([sum,i])\n",
        "\n",
        "      if(len((new_i_sum))==0):\n",
        "        new_cent=[1,1]\n",
        "      else:\n",
        "        new_cent=min(new_i_sum)\n",
        "      return(new_cent[1])\n",
        "\n",
        "    # K mean clustering using jaccard distance\n",
        "    def kmeans_tweet(K, tweet_list, l):\n",
        "      clus_sep=[]\n",
        "      #initial centroids\n",
        "      centroids=[x for x in range(K)]\n",
        "      for k in range(K):\n",
        "        clus_sep.append([])# intialize\n",
        "\n",
        "      for j in range(l):\n",
        "        dist=[]\n",
        "        for k in range(K):\n",
        "          d=jacc_distance(tweet_list[j],tweet_list[centroids[k]])\n",
        "          dist.append([d,k])\n",
        "\n",
        "        min_d=min(dist)\n",
        "        clus_sep[min_d[1]].append(j)\n",
        "\n",
        "        new_cent=find_new_centroid(K,clus_sep[min_d[1]],tweet_list)\n",
        "        centroids[k]=new_cent\n",
        "\n",
        "      SSE=SSE_cal(K,centroids,clus_sep,tweet_list)\n",
        "      ret_list=[clus_sep,SSE]\n",
        "      return(ret_list)\n",
        "\n",
        "    Lines = self.usnewshealth.split('\\n')  # Split the content into lines\n",
        "    tweet_list = []\n",
        "    for line in Lines:\n",
        "      line=\" {}\".format(line.strip())\n",
        "      line=clean_data(line)\n",
        "      tweet_list.append(line)\n",
        "    #print(tweet_list)\n",
        "\n",
        "    K=[i for i in range(10, 101, 10)]\n",
        "    l=len(tweet_list)\n",
        "\n",
        "    sse_values = []\n",
        "\n",
        "    for k in K:\n",
        "      tweet_clus=kmeans_tweet(k, tweet_list, l)\n",
        "      print(\"K is :\",k)\n",
        "      print(\"Size of each cluster :\")\n",
        "      size_clusters=[]\n",
        "      for i in tweet_clus[0]:\n",
        "        size_clusters.append(len(i))\n",
        "      print(size_clusters)\n",
        "      print(\"SSE :\" ,tweet_clus[1])\n",
        "      sse_values.append(tweet_clus[1])\n",
        "\n",
        "    plt.plot(K, sse_values, marker='o')\n",
        "    plt.xlabel('Number of Clusters (K)')\n",
        "    plt.ylabel('Sum of Squared Errors (SSE)')\n",
        "    plt.title('SSE vs. K')\n",
        "    plt.grid(True)\n",
        "    plt.show()"
      ]
    },
    {
      "cell_type": "markdown",
      "source": [
        "## We use the foxnewshealth.txt dataset"
      ],
      "metadata": {
        "id": "IrnnVHhmLxEF"
      }
    },
    {
      "cell_type": "code",
      "source": [
        "url = 'https://drive.google.com/file/d/1B5cMrXQ5xvRHsU9ndHE3T_CmMqAA_DA0/view?usp=sharing'\n",
        "file_id = url.split('/')[-2]\n",
        "dwn_url = 'https://drive.google.com/uc?id=' + file_id\n",
        "\n",
        "# Download the file content using requests\n",
        "response = requests.get(dwn_url)\n",
        "if response.status_code == 200:\n",
        "    usnewshealth = response.text\n",
        "\n"
      ],
      "metadata": {
        "id": "rNqDejgu3wM3"
      },
      "execution_count": 3,
      "outputs": []
    },
    {
      "cell_type": "code",
      "source": [
        "if __name__ == \"__main__\":\n",
        "    kmeans = kmeans_clustering(usnewshealth) # put in path to your file\n",
        "    kmeans.main_method()"
      ],
      "metadata": {
        "colab": {
          "base_uri": "https://localhost:8080/",
          "height": 1000
        },
        "id": "epZxltkaZhyE",
        "outputId": "1cad7abb-8df6-435b-e127-5e56f29deef2"
      },
      "execution_count": 4,
      "outputs": [
        {
          "output_type": "stream",
          "name": "stdout",
          "text": [
            "K is : 10\n",
            "Size of each cluster :\n",
            "[504, 260, 21, 49, 236, 266, 75, 323, 188, 78]\n",
            "SSE : 1734.5394244541783\n",
            "K is : 20\n",
            "Size of each cluster :\n",
            "[256, 239, 9, 37, 134, 187, 49, 141, 155, 245, 166, 83, 79, 31, 8, 14, 82, 47, 15, 23]\n",
            "SSE : 1664.2318818534986\n",
            "K is : 30\n",
            "Size of each cluster :\n",
            "[181, 174, 8, 23, 124, 157, 45, 112, 129, 223, 122, 63, 69, 26, 7, 13, 67, 38, 14, 24, 24, 18, 2, 25, 47, 70, 51, 93, 30, 21]\n",
            "SSE : 1629.9358292768036\n",
            "K is : 40\n",
            "Size of each cluster :\n",
            "[98, 163, 7, 18, 112, 127, 38, 98, 113, 184, 102, 56, 53, 12, 6, 11, 64, 36, 10, 20, 21, 18, 2, 23, 38, 55, 37, 85, 24, 29, 12, 49, 30, 9, 104, 31, 2, 60, 16, 27]\n",
            "SSE : 1599.672582508298\n",
            "K is : 50\n",
            "Size of each cluster :\n",
            "[68, 135, 7, 16, 88, 101, 27, 77, 110, 160, 91, 51, 44, 12, 6, 6, 62, 33, 10, 18, 19, 14, 2, 22, 37, 30, 31, 82, 20, 26, 11, 42, 28, 9, 94, 25, 2, 48, 15, 44, 23, 9, 50, 14, 0, 28, 74, 17, 42, 20]\n",
            "SSE : 1569.45321630441\n",
            "K is : 60\n",
            "Size of each cluster :\n",
            "[50, 123, 7, 14, 87, 97, 25, 77, 102, 155, 87, 47, 42, 12, 5, 5, 59, 32, 10, 17, 17, 14, 2, 20, 32, 27, 17, 81, 20, 26, 11, 40, 28, 9, 87, 18, 2, 26, 8, 40, 23, 9, 48, 14, 0, 25, 66, 16, 39, 11, 2, 10, 12, 27, 31, 18, 15, 13, 24, 19]\n",
            "SSE : 1550.9041397672936\n",
            "K is : 70\n",
            "Size of each cluster :\n",
            "[45, 105, 7, 9, 85, 85, 21, 71, 83, 132, 82, 45, 41, 11, 3, 5, 48, 32, 10, 11, 17, 14, 2, 19, 30, 26, 17, 72, 18, 24, 10, 38, 27, 9, 78, 18, 2, 25, 7, 36, 20, 9, 39, 14, 0, 23, 61, 15, 37, 11, 2, 10, 11, 26, 30, 14, 15, 12, 24, 43, 17, 5, 20, 3, 25, 35, 8, 16, 18, 17]\n",
            "SSE : 1528.2013526902317\n",
            "K is : 80\n",
            "Size of each cluster :\n",
            "[41, 97, 7, 9, 85, 82, 20, 63, 58, 126, 77, 45, 40, 11, 3, 5, 43, 31, 10, 8, 16, 14, 2, 17, 30, 25, 15, 72, 18, 23, 10, 37, 27, 9, 75, 17, 2, 23, 7, 30, 19, 8, 37, 14, 0, 20, 61, 14, 33, 9, 2, 10, 9, 25, 30, 12, 14, 8, 22, 42, 15, 5, 20, 3, 25, 31, 7, 15, 18, 1, 5, 44, 24, 0, 5, 13, 2, 14, 19, 15]\n",
            "SSE : 1513.018139971596\n",
            "K is : 90\n",
            "Size of each cluster :\n",
            "[34, 92, 7, 6, 83, 79, 19, 59, 57, 114, 69, 38, 39, 10, 2, 5, 42, 31, 10, 3, 14, 14, 2, 16, 30, 18, 11, 71, 13, 22, 10, 35, 27, 9, 63, 13, 2, 23, 7, 27, 19, 8, 37, 12, 0, 20, 58, 13, 29, 9, 2, 10, 9, 25, 28, 9, 12, 8, 21, 42, 15, 3, 20, 3, 24, 31, 7, 15, 15, 1, 5, 43, 19, 0, 5, 13, 2, 14, 19, 22, 25, 8, 7, 11, 7, 26, 13, 9, 9, 12]\n",
            "SSE : 1494.724410206966\n",
            "K is : 100\n",
            "Size of each cluster :\n",
            "[28, 86, 6, 6, 67, 46, 19, 58, 51, 98, 66, 35, 36, 8, 2, 4, 37, 23, 10, 2, 11, 14, 2, 16, 26, 17, 10, 66, 9, 20, 8, 30, 27, 9, 58, 12, 2, 20, 7, 24, 18, 8, 28, 12, 0, 20, 56, 13, 28, 9, 2, 9, 8, 23, 28, 9, 10, 6, 7, 41, 14, 2, 10, 3, 15, 31, 7, 15, 13, 1, 4, 41, 19, 0, 5, 13, 2, 13, 19, 17, 24, 8, 7, 11, 7, 22, 13, 9, 8, 9, 44, 13, 30, 9, 24, 5, 32, 10, 49, 11]\n",
            "SSE : 1474.1053894651025\n"
          ]
        },
        {
          "output_type": "display_data",
          "data": {
            "text/plain": [
              "<Figure size 640x480 with 1 Axes>"
            ],
            "image/png": "[encoded data removed]"
          },
          "metadata": {}
        }
      ]
    },
    {
      "cell_type": "markdown",
      "source": [
        "- This Scree plot shows that the optimal number of clusters is 20, as the drop in SSE is low when the number of clusters is increased by more than 20.\n",
        "\n",
        "- Butter more accuracy can be obtained by tuning K more."
      ],
      "metadata": {
        "id": "pW8lgcmvMOx4"
      }
    },
    {
      "cell_type": "markdown",
      "source": [
        "# Date and Time of Last Compile"
      ],
      "metadata": {
        "id": "VPGMu-JkKxqm"
      }
    },
    {
      "cell_type": "code",
      "source": [
        "# Get the current date and time\n",
        "timezone = pytz.timezone('US/Central')\n",
        "current_datetime = datetime.datetime.now(timezone)\n",
        "\n",
        "# Print the current date and time\n",
        "print(\"Current date and time:\", current_datetime)"
      ],
      "metadata": {
        "colab": {
          "base_uri": "https://localhost:8080/"
        },
        "id": "Foyv80QTzoec",
        "outputId": "2ede124a-5ef9-4272-f925-112fbcf2af21"
      },
      "execution_count": 5,
      "outputs": [
        {
          "output_type": "stream",
          "name": "stdout",
          "text": [
            "Current date and time: 2023-11-25 13:09:24.180567-06:00\n"
          ]
        }
      ]
    }
  ],
  "metadata": {
    "colab": {
      "provenance": [],
      "include_colab_link": true
    },
    "kernelspec": {
      "display_name": "Python 3",
      "name": "python3"
    },
    "language_info": {
      "name": "python"
    }
  },
  "nbformat": 4,
  "nbformat_minor": 0
}